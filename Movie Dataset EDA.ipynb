{
  "nbformat": 4,
  "nbformat_minor": 0,
  "metadata": {
    "kernelspec": {
      "display_name": "Python 3",
      "language": "python",
      "name": "python3"
    },
    "language_info": {
      "codemirror_mode": {
        "name": "ipython",
        "version": 3
      },
      "file_extension": ".py",
      "mimetype": "text/x-python",
      "name": "python",
      "nbconvert_exporter": "python",
      "pygments_lexer": "ipython3",
      "version": "3.8.2"
    },
    "colab": {
      "name": "Capstone Project II.ipynb",
      "provenance": [],
      "collapsed_sections": []
    }
  },
  "cells": [
    {
      "cell_type": "markdown",
      "metadata": {
        "id": "Z5whrbYGHWvH"
      },
      "source": [
        "Exploratory data analysis (EDA) is a crucial component of data science which allows one to understand the basics of what your data looks like and what kinds of questions might be answered by them. For this task, we are going to clean, sanitize and explore our data. Using the movies dataset, answer the following questions by writing code in the cells.\n"
      ]
    },
    {
      "cell_type": "code",
      "metadata": {
        "id": "79CWu1lmZsAX",
        "colab": {
          "base_uri": "https://localhost:8080/",
          "height": 35
        },
        "outputId": "3450e7db-3b8e-456d-dfe3-ac2652a28b94"
      },
      "source": [
        "from google.colab import drive\n",
        "drive.mount('/content/drive')"
      ],
      "execution_count": null,
      "outputs": [
        {
          "output_type": "stream",
          "text": [
            "Mounted at /content/drive\n"
          ],
          "name": "stdout"
        }
      ]
    },
    {
      "cell_type": "code",
      "metadata": {
        "id": "fiRjgXRZHWvN"
      },
      "source": [
        "# Importing the required packages here\n",
        "\n",
        "import numpy as np\n",
        "import pandas as pd\n",
        "pd.options.mode.chained_assignment = None  # default='warn'\n",
        "import seaborn as sns\n",
        "import ast, json\n",
        "\n",
        "from datetime import datetime\n",
        "import matplotlib.pyplot as plt\n",
        "% matplotlib inline\n"
      ],
      "execution_count": null,
      "outputs": []
    },
    {
      "cell_type": "code",
      "metadata": {
        "id": "7eFGk8mnHWvw"
      },
      "source": [
        "#### load the movie dataset and create their dataframes\n",
        "\n",
        "movies_df = pd.read_csv('/content/drive/My Drive/Hyperion/mod2t16/movies2.csv')\n"
      ],
      "execution_count": null,
      "outputs": []
    },
    {
      "cell_type": "markdown",
      "metadata": {
        "id": "Fas1qmFiHWwN"
      },
      "source": [
        "### Data Cleansing \n",
        "#### Clean the data. Identify columns that are redundant or unnecessary.\n",
        "\n",
        "It is always easier to make your decisions based on data which is relevant and concise. Remove the following columns ['keywords', 'homepage', 'status', 'tagline', 'original_language', 'homepage', 'overview', 'production_companies', 'original_title', 'title_y'] from the data set as they will not be used in the analysis."
      ]
    },
    {
      "cell_type": "code",
      "metadata": {
        "id": "ak-MqlOwOKYQ",
        "colab": {
          "base_uri": "https://localhost:8080/",
          "height": 127
        },
        "outputId": "35b76bb8-cc6f-4341-addb-2d75e820b62d"
      },
      "source": [
        "movies_df.columns"
      ],
      "execution_count": null,
      "outputs": [
        {
          "output_type": "execute_result",
          "data": {
            "text/plain": [
              "Index(['budget', 'genres', 'homepage', 'id', 'keywords', 'original_language',\n",
              "       'original_title', 'overview', 'popularity', 'production_companies',\n",
              "       'production_countries', 'release_date', 'revenue', 'runtime',\n",
              "       'spoken_languages', 'status', 'tagline', 'title', 'vote_average',\n",
              "       'vote_count'],\n",
              "      dtype='object')"
            ]
          },
          "metadata": {
            "tags": []
          },
          "execution_count": 7
        }
      ]
    },
    {
      "cell_type": "code",
      "metadata": {
        "id": "BvF4-BVFHWwR"
      },
      "source": [
        "movies_df.drop(['keywords', 'homepage', 'status', 'tagline', 'original_language', 'homepage', 'overview', 'production_companies', 'original_title'],inplace=True, axis=1)"
      ],
      "execution_count": null,
      "outputs": []
    },
    {
      "cell_type": "markdown",
      "metadata": {
        "id": "uwtcGCXzHWwu"
      },
      "source": [
        "#### Remove any duplicate rows"
      ]
    },
    {
      "cell_type": "code",
      "metadata": {
        "id": "5a2b-1U2HWwx",
        "colab": {
          "base_uri": "https://localhost:8080/",
          "height": 69
        },
        "outputId": "4698b763-4399-4905-d04f-f89e49030b16"
      },
      "source": [
        "# seeing no duplicates\n",
        "movies_df[movies_df.duplicated()]\n",
        "\n",
        "# movies_df.drop_duplicates(keep=False,inplace=True)"
      ],
      "execution_count": null,
      "outputs": [
        {
          "output_type": "execute_result",
          "data": {
            "text/html": [
              "<div>\n",
              "<style scoped>\n",
              "    .dataframe tbody tr th:only-of-type {\n",
              "        vertical-align: middle;\n",
              "    }\n",
              "\n",
              "    .dataframe tbody tr th {\n",
              "        vertical-align: top;\n",
              "    }\n",
              "\n",
              "    .dataframe thead th {\n",
              "        text-align: right;\n",
              "    }\n",
              "</style>\n",
              "<table border=\"1\" class=\"dataframe\">\n",
              "  <thead>\n",
              "    <tr style=\"text-align: right;\">\n",
              "      <th></th>\n",
              "      <th>budget</th>\n",
              "      <th>genres</th>\n",
              "      <th>id</th>\n",
              "      <th>popularity</th>\n",
              "      <th>production_countries</th>\n",
              "      <th>release_date</th>\n",
              "      <th>revenue</th>\n",
              "      <th>runtime</th>\n",
              "      <th>spoken_languages</th>\n",
              "      <th>title</th>\n",
              "      <th>vote_average</th>\n",
              "      <th>vote_count</th>\n",
              "    </tr>\n",
              "  </thead>\n",
              "  <tbody>\n",
              "  </tbody>\n",
              "</table>\n",
              "</div>"
            ],
            "text/plain": [
              "Empty DataFrame\n",
              "Columns: [budget, genres, id, popularity, production_countries, release_date, revenue, runtime, spoken_languages, title, vote_average, vote_count]\n",
              "Index: []"
            ]
          },
          "metadata": {
            "tags": []
          },
          "execution_count": 9
        }
      ]
    },
    {
      "cell_type": "markdown",
      "metadata": {
        "id": "a2jQc4JCHWxB"
      },
      "source": [
        "#### Some movies in the database have zero budget or zero revenue which implies that their values have not been recorded or some information is missing. Discard such entries from the dataframe."
      ]
    },
    {
      "cell_type": "code",
      "metadata": {
        "id": "83epgw04uJL4"
      },
      "source": [
        "movies_df = movies_df.loc[~((movies_df['budget'] == 0) | (movies_df['revenue'] == 0)),:]"
      ],
      "execution_count": null,
      "outputs": []
    },
    {
      "cell_type": "markdown",
      "metadata": {
        "id": "TvRouqsyHWxS"
      },
      "source": [
        "#### To manipulate the columns easily, it is important that we make use of the python objects. Change the release date column into Date format and extract the year from the date. This will help us in analysing yearly data."
      ]
    },
    {
      "cell_type": "code",
      "metadata": {
        "id": "-CMwaefKuURs",
        "colab": {
          "base_uri": "https://localhost:8080/",
          "height": 35
        },
        "outputId": "a1bb8957-dfa3-4cbc-ca64-9f892694dade"
      },
      "source": [
        "movies_df.release_date.dtype"
      ],
      "execution_count": null,
      "outputs": [
        {
          "output_type": "execute_result",
          "data": {
            "text/plain": [
              "dtype('O')"
            ]
          },
          "metadata": {
            "tags": []
          },
          "execution_count": 11
        }
      ]
    },
    {
      "cell_type": "code",
      "metadata": {
        "id": "wHh3bZJGuXPG",
        "colab": {
          "base_uri": "https://localhost:8080/",
          "height": 127
        },
        "outputId": "257a3676-d370-4afd-ad3c-b2eb631b7791"
      },
      "source": [
        "# create a new column, date_parsed, with the parsed dates\n",
        "movies_df['date_parsed'] = pd.to_datetime(movies_df['release_date'], format='%Y-%M-%d')\n",
        "\n",
        "movies_df['date_parsed'].head()"
      ],
      "execution_count": null,
      "outputs": [
        {
          "output_type": "execute_result",
          "data": {
            "text/plain": [
              "0   2009-01-10 00:12:00\n",
              "1   2007-01-19 00:05:00\n",
              "2   2015-01-26 00:10:00\n",
              "3   2012-01-16 00:07:00\n",
              "4   2012-01-07 00:03:00\n",
              "Name: date_parsed, dtype: datetime64[ns]"
            ]
          },
          "metadata": {
            "tags": []
          },
          "execution_count": 12
        }
      ]
    },
    {
      "cell_type": "code",
      "metadata": {
        "id": "4WNxFR9LHWxV"
      },
      "source": [
        "# Change the release_date column to DateTime column\n",
        "movies_df['release_date'] = movies_df['date_parsed']\n",
        "\n",
        "# Extract the release year from every release date\n",
        "movies_df['release_year'] = movies_df['release_date'].dt.year"
      ],
      "execution_count": null,
      "outputs": []
    },
    {
      "cell_type": "markdown",
      "metadata": {
        "id": "HXyhZ08GHWxn"
      },
      "source": [
        "#### Change budget and revenue columns format to integer using numpy’s int64 method."
      ]
    },
    {
      "cell_type": "code",
      "metadata": {
        "id": "qykHeCf4HWxs"
      },
      "source": [
        "# code here\n",
        "movies_df[['budget','revenue']] = movies_df[['budget','revenue']].astype(np.int64)"
      ],
      "execution_count": null,
      "outputs": []
    },
    {
      "cell_type": "markdown",
      "metadata": {
        "id": "WRfai9zzHWxz"
      },
      "source": [
        "On checking the dataset, we see that genres, keywords, production_companies, production_countries, spoken_languages are in the JSON format which will make it difficult to manipulate the dataframe. Now let’s flatten these columns into a format that can be easily interpreted.\n",
        "\n",
        "I will help you convert them into strings and later convert them into lists. Writing a generic function to parse JSON columns."
      ]
    },
    {
      "cell_type": "code",
      "metadata": {
        "id": "1_l3pJYyHWx1",
        "colab": {
          "base_uri": "https://localhost:8080/",
          "height": 504
        },
        "outputId": "ec965549-04a3-44ef-e53e-7c7a5cd59301"
      },
      "source": [
        "def parse_col_json(column, key):\n",
        "    \"\"\"\n",
        "    Args:\n",
        "        column: string\n",
        "            name of the column to be processed.\n",
        "        key: string\n",
        "            name of the dictionary key which needs to be extracted\n",
        "    \"\"\"\n",
        "    for index,i in zip(movies_df.index,movies_df[column].apply(json.loads)):\n",
        "        list1=[]\n",
        "        for j in range(len(i)):\n",
        "            list1.append((i[j][key]))# the key 'name' contains the name of the genre\n",
        "        movies_df.loc[index,column]=str(list1)\n",
        "    \n",
        "parse_col_json('genres', 'name')\n",
        "parse_col_json('spoken_languages', 'name')\n",
        "# parse_col_json('cast', 'name')\n",
        "parse_col_json('production_countries', 'name')\n",
        "\n",
        "movies_df.head()"
      ],
      "execution_count": null,
      "outputs": [
        {
          "output_type": "execute_result",
          "data": {
            "text/html": [
              "<div>\n",
              "<style scoped>\n",
              "    .dataframe tbody tr th:only-of-type {\n",
              "        vertical-align: middle;\n",
              "    }\n",
              "\n",
              "    .dataframe tbody tr th {\n",
              "        vertical-align: top;\n",
              "    }\n",
              "\n",
              "    .dataframe thead th {\n",
              "        text-align: right;\n",
              "    }\n",
              "</style>\n",
              "<table border=\"1\" class=\"dataframe\">\n",
              "  <thead>\n",
              "    <tr style=\"text-align: right;\">\n",
              "      <th></th>\n",
              "      <th>budget</th>\n",
              "      <th>genres</th>\n",
              "      <th>id</th>\n",
              "      <th>popularity</th>\n",
              "      <th>production_countries</th>\n",
              "      <th>release_date</th>\n",
              "      <th>revenue</th>\n",
              "      <th>runtime</th>\n",
              "      <th>spoken_languages</th>\n",
              "      <th>title</th>\n",
              "      <th>vote_average</th>\n",
              "      <th>vote_count</th>\n",
              "      <th>date_parsed</th>\n",
              "      <th>release_year</th>\n",
              "    </tr>\n",
              "  </thead>\n",
              "  <tbody>\n",
              "    <tr>\n",
              "      <th>0</th>\n",
              "      <td>237000000</td>\n",
              "      <td>['Action', 'Adventure', 'Fantasy', 'Science Fi...</td>\n",
              "      <td>19995</td>\n",
              "      <td>150.437577</td>\n",
              "      <td>['United States of America', 'United Kingdom']</td>\n",
              "      <td>2009-01-10 00:12:00</td>\n",
              "      <td>2787965087</td>\n",
              "      <td>162.0</td>\n",
              "      <td>['English', 'Español']</td>\n",
              "      <td>Avatar</td>\n",
              "      <td>7.2</td>\n",
              "      <td>11800</td>\n",
              "      <td>2009-01-10 00:12:00</td>\n",
              "      <td>2009</td>\n",
              "    </tr>\n",
              "    <tr>\n",
              "      <th>1</th>\n",
              "      <td>300000000</td>\n",
              "      <td>['Adventure', 'Fantasy', 'Action']</td>\n",
              "      <td>285</td>\n",
              "      <td>139.082615</td>\n",
              "      <td>['United States of America']</td>\n",
              "      <td>2007-01-19 00:05:00</td>\n",
              "      <td>961000000</td>\n",
              "      <td>169.0</td>\n",
              "      <td>['English']</td>\n",
              "      <td>Pirates of the Caribbean: At World's End</td>\n",
              "      <td>6.9</td>\n",
              "      <td>4500</td>\n",
              "      <td>2007-01-19 00:05:00</td>\n",
              "      <td>2007</td>\n",
              "    </tr>\n",
              "    <tr>\n",
              "      <th>2</th>\n",
              "      <td>245000000</td>\n",
              "      <td>['Action', 'Adventure', 'Crime']</td>\n",
              "      <td>206647</td>\n",
              "      <td>107.376788</td>\n",
              "      <td>['United Kingdom', 'United States of America']</td>\n",
              "      <td>2015-01-26 00:10:00</td>\n",
              "      <td>880674609</td>\n",
              "      <td>148.0</td>\n",
              "      <td>['Français', 'English', 'Español', 'Italiano',...</td>\n",
              "      <td>Spectre</td>\n",
              "      <td>6.3</td>\n",
              "      <td>4466</td>\n",
              "      <td>2015-01-26 00:10:00</td>\n",
              "      <td>2015</td>\n",
              "    </tr>\n",
              "    <tr>\n",
              "      <th>3</th>\n",
              "      <td>250000000</td>\n",
              "      <td>['Action', 'Crime', 'Drama', 'Thriller']</td>\n",
              "      <td>49026</td>\n",
              "      <td>112.312950</td>\n",
              "      <td>['United States of America']</td>\n",
              "      <td>2012-01-16 00:07:00</td>\n",
              "      <td>1084939099</td>\n",
              "      <td>165.0</td>\n",
              "      <td>['English']</td>\n",
              "      <td>The Dark Knight Rises</td>\n",
              "      <td>7.6</td>\n",
              "      <td>9106</td>\n",
              "      <td>2012-01-16 00:07:00</td>\n",
              "      <td>2012</td>\n",
              "    </tr>\n",
              "    <tr>\n",
              "      <th>4</th>\n",
              "      <td>260000000</td>\n",
              "      <td>['Action', 'Adventure', 'Science Fiction']</td>\n",
              "      <td>49529</td>\n",
              "      <td>43.926995</td>\n",
              "      <td>['United States of America']</td>\n",
              "      <td>2012-01-07 00:03:00</td>\n",
              "      <td>284139100</td>\n",
              "      <td>132.0</td>\n",
              "      <td>['English']</td>\n",
              "      <td>John Carter</td>\n",
              "      <td>6.1</td>\n",
              "      <td>2124</td>\n",
              "      <td>2012-01-07 00:03:00</td>\n",
              "      <td>2012</td>\n",
              "    </tr>\n",
              "  </tbody>\n",
              "</table>\n",
              "</div>"
            ],
            "text/plain": [
              "      budget  ... release_year\n",
              "0  237000000  ...         2009\n",
              "1  300000000  ...         2007\n",
              "2  245000000  ...         2015\n",
              "3  250000000  ...         2012\n",
              "4  260000000  ...         2012\n",
              "\n",
              "[5 rows x 14 columns]"
            ]
          },
          "metadata": {
            "tags": []
          },
          "execution_count": 15
        }
      ]
    },
    {
      "cell_type": "markdown",
      "metadata": {
        "id": "OPVdYUh8HWyA"
      },
      "source": [
        "### Now onto the exploration\n",
        "\n",
        "#### Identify relationships between variables / features\n",
        "\n",
        "The main goal here is to identify and create relationships which can help you to build ideas. I have defined questions which can help you identify some relationships to explore."
      ]
    },
    {
      "cell_type": "markdown",
      "metadata": {
        "id": "pL0vFFs0HWyB"
      },
      "source": [
        "#### Which are the 5 most expensive movies? How do the most expensive and cheapest movies compare? Exploring the most expensive movies help you explore if some movies are worth the money spent on them based on their performance and revenue generated."
      ]
    },
    {
      "cell_type": "code",
      "metadata": {
        "id": "c24eWIoTHWyD",
        "colab": {
          "base_uri": "https://localhost:8080/",
          "height": 293
        },
        "outputId": "fb493026-e081-4c09-d269-0ed22fa5f274"
      },
      "source": [
        "print('The five biggest budget movies are : ')\n",
        "print(movies_df.sort_values(by='budget', ascending=False)['title'].head())\n",
        "print('\\nThe five lowest budget movies are : ')\n",
        "print(movies_df.sort_values(by='budget', ascending=True)['title'].head())\n"
      ],
      "execution_count": null,
      "outputs": [
        {
          "output_type": "stream",
          "text": [
            "The five biggest budget movies are : \n",
            "17    Pirates of the Caribbean: On Stranger Tides\n",
            "1        Pirates of the Caribbean: At World's End\n",
            "7                         Avengers: Age of Ultron\n",
            "10                               Superman Returns\n",
            "4                                     John Carter\n",
            "Name: title, dtype: object\n",
            "\n",
            "The five lowest budget movies are : \n",
            "4238          Modern Times\n",
            "3611    A Farewell to Arms\n",
            "3372          Split Second\n",
            "3419          Bran Nue Dae\n",
            "4608          The Prophecy\n",
            "Name: title, dtype: object\n"
          ],
          "name": "stdout"
        }
      ]
    },
    {
      "cell_type": "code",
      "metadata": {
        "id": "a1YZfXTixdiE"
      },
      "source": [
        "pd.set_option('display.max_columns', None)"
      ],
      "execution_count": null,
      "outputs": []
    },
    {
      "cell_type": "code",
      "metadata": {
        "id": "R_lZCA1lyrpf",
        "colab": {
          "base_uri": "https://localhost:8080/",
          "height": 256
        },
        "outputId": "39965f1c-07e4-41c3-c61a-47dc65a8dd3f"
      },
      "source": [
        "print(movies_df.sort_values(by='budget', ascending=False)[['popularity', 'vote_count', 'revenue', 'spoken_languages', 'production_countries']].head())"
      ],
      "execution_count": null,
      "outputs": [
        {
          "output_type": "stream",
          "text": [
            "    popularity  vote_count     revenue                    spoken_languages  \\\n",
            "17  135.413856        4948  1045713802              ['English', 'Español']   \n",
            "1   139.082615        4500   961000000                         ['English']   \n",
            "7   134.279229        6767  1405403694                         ['English']   \n",
            "10   57.925623        1400   391081192  ['English', 'Français', 'Deutsch']   \n",
            "4    43.926995        2124   284139100                         ['English']   \n",
            "\n",
            "            production_countries  \n",
            "17  ['United States of America']  \n",
            "1   ['United States of America']  \n",
            "7   ['United States of America']  \n",
            "10  ['United States of America']  \n",
            "4   ['United States of America']  \n"
          ],
          "name": "stdout"
        }
      ]
    },
    {
      "cell_type": "code",
      "metadata": {
        "id": "UwcIh6LgytAv",
        "colab": {
          "base_uri": "https://localhost:8080/",
          "height": 256
        },
        "outputId": "1a681ed6-81ab-4f38-af9e-2f885e709a0f"
      },
      "source": [
        "print(movies_df.sort_values(by='budget', ascending=True)[['popularity', 'vote_count', 'revenue', 'spoken_languages', 'production_countries']].head())"
      ],
      "execution_count": null,
      "outputs": [
        {
          "output_type": "stream",
          "text": [
            "      popularity  vote_count  revenue spoken_languages  \\\n",
            "4238   28.276480         856  8500000      ['English']   \n",
            "3611    1.199451          28       25      ['English']   \n",
            "3372    4.857028          63        5      ['English']   \n",
            "3419    0.050456           6        7               []   \n",
            "4608   11.818333         138       16      ['English']   \n",
            "\n",
            "              production_countries  \n",
            "4238  ['United States of America']  \n",
            "3611  ['United States of America']  \n",
            "3372            ['United Kingdom']  \n",
            "3419                            []  \n",
            "4608  ['United States of America']  \n"
          ],
          "name": "stdout"
        }
      ]
    },
    {
      "cell_type": "markdown",
      "metadata": {
        "id": "xX-9V5xLHWyL"
      },
      "source": [
        "#### What are the top 5 most profitable movies? Compare the min and max profits. The comparison helps us indentify the different approaches which failed and succeeded. Subtracting the budget from the revenue generated, will return the profit earned."
      ]
    },
    {
      "cell_type": "code",
      "metadata": {
        "id": "06gEZixkHWyM",
        "colab": {
          "base_uri": "https://localhost:8080/",
          "height": 293
        },
        "outputId": "84ef3277-e03d-4157-e725-da1c0c725a5f"
      },
      "source": [
        "# creating profit column\n",
        "movies_df['profit'] = movies_df.revenue - movies_df.budget\n",
        "\n",
        "# sorting by profit\n",
        "print('The five most profitable movies are :')\n",
        "print(movies_df.sort_values(by='profit', ascending=False)[['title']].head())\n",
        "print('\\nThe five least profitable movies are :')\n",
        "print(movies_df.sort_values(by='profit', ascending=False)[['title']].tail())\n"
      ],
      "execution_count": null,
      "outputs": [
        {
          "output_type": "stream",
          "text": [
            "The five most profitable movies are :\n",
            "             title\n",
            "0           Avatar\n",
            "25         Titanic\n",
            "28  Jurassic World\n",
            "44       Furious 7\n",
            "16    The Avengers\n",
            "\n",
            "The five least profitable movies are :\n",
            "                            title\n",
            "311  The Adventures of Pluto Nash\n",
            "208              The 13th Warrior\n",
            "141               Mars Needs Moms\n",
            "338                     The Alamo\n",
            "13                The Lone Ranger\n"
          ],
          "name": "stdout"
        }
      ]
    },
    {
      "cell_type": "code",
      "metadata": {
        "id": "Cm5R1JW56yET",
        "colab": {
          "base_uri": "https://localhost:8080/",
          "height": 384
        },
        "outputId": "d82e92ac-5c9a-4aa0-cb77-658b14ff087d"
      },
      "source": [
        "# displaying other features of the most profitable movies\n",
        "print(movies_df.sort_values(by='profit', ascending=False)[['title', 'profit', 'budget', 'revenue', 'popularity', 'vote_count', 'spoken_languages', 'production_countries']].head())"
      ],
      "execution_count": null,
      "outputs": [
        {
          "output_type": "stream",
          "text": [
            "             title      profit     budget     revenue  popularity  vote_count  \\\n",
            "0           Avatar  2550965087  237000000  2787965087  150.437577       11800   \n",
            "25         Titanic  1645034188  200000000  1845034188  100.025899        7562   \n",
            "28  Jurassic World  1363528810  150000000  1513528810  418.708552        8662   \n",
            "44       Furious 7  1316249360  190000000  1506249360  102.322217        4176   \n",
            "16    The Avengers  1299557910  220000000  1519557910  144.448633       11776   \n",
            "\n",
            "                                     spoken_languages  \\\n",
            "0                              ['English', 'Español']   \n",
            "25  ['English', 'Français', 'Deutsch', 'svenska', ...   \n",
            "28                                        ['English']   \n",
            "44                                        ['English']   \n",
            "16                                        ['English']   \n",
            "\n",
            "                              production_countries  \n",
            "0   ['United States of America', 'United Kingdom']  \n",
            "25                    ['United States of America']  \n",
            "28                    ['United States of America']  \n",
            "44           ['Japan', 'United States of America']  \n",
            "16                    ['United States of America']  \n"
          ],
          "name": "stdout"
        }
      ]
    },
    {
      "cell_type": "code",
      "metadata": {
        "id": "5JaMc8zf9p7Z",
        "colab": {
          "base_uri": "https://localhost:8080/",
          "height": 384
        },
        "outputId": "aff4b09e-35c8-41c5-d14f-e036e6b0540a"
      },
      "source": [
        "# displaying other features of the least profitable movies\n",
        "print(movies_df.sort_values(by='profit', ascending=False)[['title', 'profit', 'budget', 'revenue', 'popularity', 'vote_count', 'spoken_languages', 'production_countries']].tail())"
      ],
      "execution_count": null,
      "outputs": [
        {
          "output_type": "stream",
          "text": [
            "                            title     profit     budget   revenue  popularity  \\\n",
            "311  The Adventures of Pluto Nash  -92896027  100000000   7103973   12.092241   \n",
            "208              The 13th Warrior  -98301101  160000000  61698899   27.220157   \n",
            "141               Mars Needs Moms -111007242  150000000  38992758   12.362599   \n",
            "338                     The Alamo -119180039  145000000  25819961   10.660441   \n",
            "13                The Lone Ranger -165710090  255000000  89289910   49.046956   \n",
            "\n",
            "     vote_count        spoken_languages  \\\n",
            "311         142             ['English']   \n",
            "208         510    ['English', 'Norsk']   \n",
            "141         199             ['English']   \n",
            "338         106  ['English', 'Español']   \n",
            "13         2311             ['English']   \n",
            "\n",
            "                          production_countries  \n",
            "311  ['Australia', 'United States of America']  \n",
            "208               ['United States of America']  \n",
            "141               ['United States of America']  \n",
            "338               ['United States of America']  \n",
            "13                ['United States of America']  \n"
          ],
          "name": "stdout"
        }
      ]
    },
    {
      "cell_type": "markdown",
      "metadata": {
        "id": "d-kwSFAvHWyT"
      },
      "source": [
        "#### Find the most talked about movies. Sort the dataframe based on the popularity column."
      ]
    },
    {
      "cell_type": "code",
      "metadata": {
        "id": "z9-xD3ZQ9sGA",
        "colab": {
          "base_uri": "https://localhost:8080/",
          "height": 127
        },
        "outputId": "7fd42517-19ac-4b57-947e-a705e1e13862"
      },
      "source": [
        "# finding the most popular movies\n",
        "print(movies_df.sort_values(by='popularity', ascending=False)[['title', 'popularity']].head())"
      ],
      "execution_count": null,
      "outputs": [
        {
          "output_type": "stream",
          "text": [
            "                       title  popularity\n",
            "546                  Minions  875.581305\n",
            "95              Interstellar  724.247784\n",
            "788                 Deadpool  514.569956\n",
            "94   Guardians of the Galaxy  481.098624\n",
            "127       Mad Max: Fury Road  434.278564\n"
          ],
          "name": "stdout"
        }
      ]
    },
    {
      "cell_type": "markdown",
      "metadata": {
        "id": "-T33HMh9HWyU"
      },
      "source": [
        "#### Find Movies which are rated above 7\n",
        "\n"
      ]
    },
    {
      "cell_type": "code",
      "metadata": {
        "id": "XUYXxn2x9Fhe",
        "colab": {
          "base_uri": "https://localhost:8080/",
          "height": 424
        },
        "outputId": "29a9d4cf-9c02-44e1-e2d4-3b3b23872439"
      },
      "source": [
        "# finding movies rated above 7\n",
        "movies_df[['title', 'vote_average']].loc[(movies_df['vote_average'] > 7)]"
      ],
      "execution_count": null,
      "outputs": [
        {
          "output_type": "execute_result",
          "data": {
            "text/html": [
              "<div>\n",
              "<style scoped>\n",
              "    .dataframe tbody tr th:only-of-type {\n",
              "        vertical-align: middle;\n",
              "    }\n",
              "\n",
              "    .dataframe tbody tr th {\n",
              "        vertical-align: top;\n",
              "    }\n",
              "\n",
              "    .dataframe thead th {\n",
              "        text-align: right;\n",
              "    }\n",
              "</style>\n",
              "<table border=\"1\" class=\"dataframe\">\n",
              "  <thead>\n",
              "    <tr style=\"text-align: right;\">\n",
              "      <th></th>\n",
              "      <th>title</th>\n",
              "      <th>vote_average</th>\n",
              "    </tr>\n",
              "  </thead>\n",
              "  <tbody>\n",
              "    <tr>\n",
              "      <th>0</th>\n",
              "      <td>Avatar</td>\n",
              "      <td>7.2</td>\n",
              "    </tr>\n",
              "    <tr>\n",
              "      <th>3</th>\n",
              "      <td>The Dark Knight Rises</td>\n",
              "      <td>7.6</td>\n",
              "    </tr>\n",
              "    <tr>\n",
              "      <th>6</th>\n",
              "      <td>Tangled</td>\n",
              "      <td>7.4</td>\n",
              "    </tr>\n",
              "    <tr>\n",
              "      <th>7</th>\n",
              "      <td>Avengers: Age of Ultron</td>\n",
              "      <td>7.3</td>\n",
              "    </tr>\n",
              "    <tr>\n",
              "      <th>8</th>\n",
              "      <td>Harry Potter and the Half-Blood Prince</td>\n",
              "      <td>7.4</td>\n",
              "    </tr>\n",
              "    <tr>\n",
              "      <th>...</th>\n",
              "      <td>...</td>\n",
              "      <td>...</td>\n",
              "    </tr>\n",
              "    <tr>\n",
              "      <th>4713</th>\n",
              "      <td>Roger &amp; Me</td>\n",
              "      <td>7.4</td>\n",
              "    </tr>\n",
              "    <tr>\n",
              "      <th>4724</th>\n",
              "      <td>Eraserhead</td>\n",
              "      <td>7.5</td>\n",
              "    </tr>\n",
              "    <tr>\n",
              "      <th>4738</th>\n",
              "      <td>Pi</td>\n",
              "      <td>7.1</td>\n",
              "    </tr>\n",
              "    <tr>\n",
              "      <th>4773</th>\n",
              "      <td>Clerks</td>\n",
              "      <td>7.4</td>\n",
              "    </tr>\n",
              "    <tr>\n",
              "      <th>4792</th>\n",
              "      <td>Cure</td>\n",
              "      <td>7.4</td>\n",
              "    </tr>\n",
              "  </tbody>\n",
              "</table>\n",
              "<p>637 rows × 2 columns</p>\n",
              "</div>"
            ],
            "text/plain": [
              "                                       title  vote_average\n",
              "0                                     Avatar           7.2\n",
              "3                      The Dark Knight Rises           7.6\n",
              "6                                    Tangled           7.4\n",
              "7                    Avengers: Age of Ultron           7.3\n",
              "8     Harry Potter and the Half-Blood Prince           7.4\n",
              "...                                      ...           ...\n",
              "4713                              Roger & Me           7.4\n",
              "4724                              Eraserhead           7.5\n",
              "4738                                      Pi           7.1\n",
              "4773                                  Clerks           7.4\n",
              "4792                                    Cure           7.4\n",
              "\n",
              "[637 rows x 2 columns]"
            ]
          },
          "metadata": {
            "tags": []
          },
          "execution_count": 24
        }
      ]
    },
    {
      "cell_type": "code",
      "metadata": {
        "id": "LJtrSaENHWyX",
        "colab": {
          "base_uri": "https://localhost:8080/",
          "height": 424
        },
        "outputId": "7a207633-877d-468c-8ccd-9dba79c77524"
      },
      "source": [
        "# finding movies rated above 7, ordered by rating\n",
        "movies_df[['title', 'vote_average']].loc[(movies_df['vote_average'] > 7)].sort_values(by='vote_average', ascending=False)"
      ],
      "execution_count": null,
      "outputs": [
        {
          "output_type": "execute_result",
          "data": {
            "text/html": [
              "<div>\n",
              "<style scoped>\n",
              "    .dataframe tbody tr th:only-of-type {\n",
              "        vertical-align: middle;\n",
              "    }\n",
              "\n",
              "    .dataframe tbody tr th {\n",
              "        vertical-align: top;\n",
              "    }\n",
              "\n",
              "    .dataframe thead th {\n",
              "        text-align: right;\n",
              "    }\n",
              "</style>\n",
              "<table border=\"1\" class=\"dataframe\">\n",
              "  <thead>\n",
              "    <tr style=\"text-align: right;\">\n",
              "      <th></th>\n",
              "      <th>title</th>\n",
              "      <th>vote_average</th>\n",
              "    </tr>\n",
              "  </thead>\n",
              "  <tbody>\n",
              "    <tr>\n",
              "      <th>1881</th>\n",
              "      <td>The Shawshank Redemption</td>\n",
              "      <td>8.5</td>\n",
              "    </tr>\n",
              "    <tr>\n",
              "      <th>2970</th>\n",
              "      <td>There Goes My Baby</td>\n",
              "      <td>8.5</td>\n",
              "    </tr>\n",
              "    <tr>\n",
              "      <th>3337</th>\n",
              "      <td>The Godfather</td>\n",
              "      <td>8.4</td>\n",
              "    </tr>\n",
              "    <tr>\n",
              "      <th>1818</th>\n",
              "      <td>Schindler's List</td>\n",
              "      <td>8.3</td>\n",
              "    </tr>\n",
              "    <tr>\n",
              "      <th>3232</th>\n",
              "      <td>Pulp Fiction</td>\n",
              "      <td>8.3</td>\n",
              "    </tr>\n",
              "    <tr>\n",
              "      <th>...</th>\n",
              "      <td>...</td>\n",
              "      <td>...</td>\n",
              "    </tr>\n",
              "    <tr>\n",
              "      <th>978</th>\n",
              "      <td>The Life Aquatic with Steve Zissou</td>\n",
              "      <td>7.1</td>\n",
              "    </tr>\n",
              "    <tr>\n",
              "      <th>1745</th>\n",
              "      <td>My Sister's Keeper</td>\n",
              "      <td>7.1</td>\n",
              "    </tr>\n",
              "    <tr>\n",
              "      <th>3436</th>\n",
              "      <td>The Messenger</td>\n",
              "      <td>7.1</td>\n",
              "    </tr>\n",
              "    <tr>\n",
              "      <th>1720</th>\n",
              "      <td>Kick-Ass</td>\n",
              "      <td>7.1</td>\n",
              "    </tr>\n",
              "    <tr>\n",
              "      <th>2797</th>\n",
              "      <td>Lars and the Real Girl</td>\n",
              "      <td>7.1</td>\n",
              "    </tr>\n",
              "  </tbody>\n",
              "</table>\n",
              "<p>637 rows × 2 columns</p>\n",
              "</div>"
            ],
            "text/plain": [
              "                                   title  vote_average\n",
              "1881            The Shawshank Redemption           8.5\n",
              "2970                  There Goes My Baby           8.5\n",
              "3337                       The Godfather           8.4\n",
              "1818                    Schindler's List           8.3\n",
              "3232                        Pulp Fiction           8.3\n",
              "...                                  ...           ...\n",
              "978   The Life Aquatic with Steve Zissou           7.1\n",
              "1745                  My Sister's Keeper           7.1\n",
              "3436                       The Messenger           7.1\n",
              "1720                            Kick-Ass           7.1\n",
              "2797              Lars and the Real Girl           7.1\n",
              "\n",
              "[637 rows x 2 columns]"
            ]
          },
          "metadata": {
            "tags": []
          },
          "execution_count": 25
        }
      ]
    },
    {
      "cell_type": "markdown",
      "metadata": {
        "id": "y8XiFSJ5HWyf"
      },
      "source": [
        "#### Which year did we have the most profitable movies?\n",
        "This will help to raise some deeper questions about the years when movies didn’t do well. These are preliminary questions which give rise to questions providing deeper insights."
      ]
    },
    {
      "cell_type": "code",
      "metadata": {
        "id": "eH31-qYTHWyg",
        "colab": {
          "base_uri": "https://localhost:8080/",
          "height": 311
        },
        "outputId": "5dbf53ff-9d7a-4112-9b69-2766da962cfb"
      },
      "source": [
        "# getting most profitable year(s)\n",
        "most_profitable = movies_df[['release_year', 'profit']].groupby(['release_year']).sum().sort_values(by='profit', ascending=False)\n",
        "print(f'The most profitable years for movies have been : \\n {most_profitable}')"
      ],
      "execution_count": null,
      "outputs": [
        {
          "output_type": "stream",
          "text": [
            "The most profitable years for movies have been : \n",
            "                    profit\n",
            "release_year             \n",
            "2014          17029736072\n",
            "2012          16665370551\n",
            "2015          16082841939\n",
            "2013          15191240622\n",
            "2009          13798015000\n",
            "...                   ...\n",
            "1929              3979000\n",
            "1933              3842000\n",
            "1935              2593000\n",
            "1932                   21\n",
            "1927            -91969578\n",
            "\n",
            "[89 rows x 1 columns]\n"
          ],
          "name": "stdout"
        }
      ]
    },
    {
      "cell_type": "code",
      "metadata": {
        "id": "d0QIgt4bDA6G",
        "colab": {
          "base_uri": "https://localhost:8080/",
          "height": 35
        },
        "outputId": "670ffef6-94d6-455d-f21e-5ffc5b1f31a5"
      },
      "source": [
        "print(f\"The most profitable year for movies was {most_profitable.index[0]} with a profit of ${most_profitable.iloc[0].values[0]:,}\")"
      ],
      "execution_count": null,
      "outputs": [
        {
          "output_type": "stream",
          "text": [
            "The most profitable year for movies was 2014 with a profit of $17,029,736,072\n"
          ],
          "name": "stdout"
        }
      ]
    },
    {
      "cell_type": "markdown",
      "metadata": {
        "id": "nEED3PoWHWyv"
      },
      "source": [
        "#### Most successful genres — create a bar plot explaining the frequency of movies in each genre."
      ]
    },
    {
      "cell_type": "code",
      "metadata": {
        "id": "62b6UQ67HWyy",
        "colab": {
          "base_uri": "https://localhost:8080/",
          "height": 394
        },
        "outputId": "67e048cf-c82d-4399-9409-c880dafa8b5c"
      },
      "source": [
        "# getting most profitable genres\n",
        "genres_by_profit_df = movies_df[['genres', 'profit']].groupby(['genres']).sum().sort_values(by='profit', ascending=False).iloc[:10]"
      ],
      "execution_count": null,
      "outputs": [
        {
          "output_type": "execute_result",
          "data": {
            "text/html": [
              "<div>\n",
              "<style scoped>\n",
              "    .dataframe tbody tr th:only-of-type {\n",
              "        vertical-align: middle;\n",
              "    }\n",
              "\n",
              "    .dataframe tbody tr th {\n",
              "        vertical-align: top;\n",
              "    }\n",
              "\n",
              "    .dataframe thead th {\n",
              "        text-align: right;\n",
              "    }\n",
              "</style>\n",
              "<table border=\"1\" class=\"dataframe\">\n",
              "  <thead>\n",
              "    <tr style=\"text-align: right;\">\n",
              "      <th></th>\n",
              "      <th>profit</th>\n",
              "    </tr>\n",
              "    <tr>\n",
              "      <th>genres</th>\n",
              "      <th></th>\n",
              "    </tr>\n",
              "  </thead>\n",
              "  <tbody>\n",
              "    <tr>\n",
              "      <th>['Comedy']</th>\n",
              "      <td>10493600341</td>\n",
              "    </tr>\n",
              "    <tr>\n",
              "      <th>['Drama']</th>\n",
              "      <td>8002248589</td>\n",
              "    </tr>\n",
              "    <tr>\n",
              "      <th>['Comedy', 'Romance']</th>\n",
              "      <td>6919367439</td>\n",
              "    </tr>\n",
              "    <tr>\n",
              "      <th>['Adventure', 'Action', 'Science Fiction']</th>\n",
              "      <td>6296442640</td>\n",
              "    </tr>\n",
              "    <tr>\n",
              "      <th>['Adventure', 'Fantasy', 'Action']</th>\n",
              "      <td>5902220721</td>\n",
              "    </tr>\n",
              "    <tr>\n",
              "      <th>['Action', 'Adventure', 'Science Fiction']</th>\n",
              "      <td>5605734701</td>\n",
              "    </tr>\n",
              "    <tr>\n",
              "      <th>['Animation', 'Family']</th>\n",
              "      <td>5366338646</td>\n",
              "    </tr>\n",
              "    <tr>\n",
              "      <th>['Adventure', 'Action', 'Thriller']</th>\n",
              "      <td>4184897561</td>\n",
              "    </tr>\n",
              "    <tr>\n",
              "      <th>['Drama', 'Romance']</th>\n",
              "      <td>3905785518</td>\n",
              "    </tr>\n",
              "    <tr>\n",
              "      <th>['Action', 'Adventure', 'Fantasy']</th>\n",
              "      <td>3902321979</td>\n",
              "    </tr>\n",
              "  </tbody>\n",
              "</table>\n",
              "</div>"
            ],
            "text/plain": [
              "                                                 profit\n",
              "genres                                                 \n",
              "['Comedy']                                  10493600341\n",
              "['Drama']                                    8002248589\n",
              "['Comedy', 'Romance']                        6919367439\n",
              "['Adventure', 'Action', 'Science Fiction']   6296442640\n",
              "['Adventure', 'Fantasy', 'Action']           5902220721\n",
              "['Action', 'Adventure', 'Science Fiction']   5605734701\n",
              "['Animation', 'Family']                      5366338646\n",
              "['Adventure', 'Action', 'Thriller']          4184897561\n",
              "['Drama', 'Romance']                         3905785518\n",
              "['Action', 'Adventure', 'Fantasy']           3902321979"
            ]
          },
          "metadata": {
            "tags": []
          },
          "execution_count": 37
        }
      ]
    },
    {
      "cell_type": "code",
      "metadata": {
        "id": "XcA66rg7gjEL"
      },
      "source": [
        ""
      ],
      "execution_count": null,
      "outputs": []
    }
  ]
}